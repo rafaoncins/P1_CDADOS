{
 "cells": [
  {
   "cell_type": "markdown",
   "metadata": {},
   "source": [
    "# Projeto 1 - Ciência dos Dados"
   ]
  },
  {
   "cell_type": "markdown",
   "metadata": {},
   "source": [
    "Nome: Gustavo Katz\n",
    "\n",
    "Nome: Rafael Oncins"
   ]
  },
  {
   "cell_type": "markdown",
   "metadata": {},
   "source": [
    "**Atenção:** Serão permitidos grupos de três pessoas, mas com uma rubrica mais exigente. Grupos deste tamanho precisarão fazer um questionário de avaliação de trabalho em equipe"
   ]
  },
  {
   "cell_type": "markdown",
   "metadata": {},
   "source": [
    "___\n",
    "Carregando algumas bibliotecas:"
   ]
  },
  {
   "cell_type": "code",
   "execution_count": 14,
   "metadata": {},
   "outputs": [],
   "source": [
    "%matplotlib inline\n",
    "import pandas as pd\n",
    "import matplotlib.pyplot as plt\n",
    "import numpy as np\n",
    "import os"
   ]
  },
  {
   "cell_type": "markdown",
   "metadata": {},
   "source": [
    "**Em `filename`, coloque o nome do seu arquivo de dados!**"
   ]
  },
  {
   "cell_type": "code",
   "execution_count": 15,
   "metadata": {
    "scrolled": false
   },
   "outputs": [
    {
     "name": "stdout",
     "output_type": "stream",
     "text": [
      "Encontrei o arquivo Fall guys.xlsx, tudo certo para prosseguir com a prova!\n"
     ]
    }
   ],
   "source": [
    "import os\n",
    "\n",
    "filename = 'Fall guys.xlsx'\n",
    "if filename in os.listdir():\n",
    "    print(f'Encontrei o arquivo {filename}, tudo certo para prosseguir com a prova!')\n",
    "else:\n",
    "    print(f'Não encontrei o arquivo {filename} aqui no diretório {os.getcwd()}, será que você não baixou o arquivo?')"
   ]
  },
  {
   "cell_type": "markdown",
   "metadata": {},
   "source": [
    "Carregando a base de dados com os tweets classificados como relevantes e não relevantes:"
   ]
  },
  {
   "cell_type": "code",
   "execution_count": 16,
   "metadata": {},
   "outputs": [
    {
     "data": {
      "text/html": [
       "<div>\n",
       "<style scoped>\n",
       "    .dataframe tbody tr th:only-of-type {\n",
       "        vertical-align: middle;\n",
       "    }\n",
       "\n",
       "    .dataframe tbody tr th {\n",
       "        vertical-align: top;\n",
       "    }\n",
       "\n",
       "    .dataframe thead th {\n",
       "        text-align: right;\n",
       "    }\n",
       "</style>\n",
       "<table border=\"1\" class=\"dataframe\">\n",
       "  <thead>\n",
       "    <tr style=\"text-align: right;\">\n",
       "      <th></th>\n",
       "      <th>Treinamento</th>\n",
       "      <th>Relevância</th>\n",
       "    </tr>\n",
       "  </thead>\n",
       "  <tbody>\n",
       "    <tr>\n",
       "      <td>0</td>\n",
       "      <td>atualizaram o fall guys e ficou uma merda, par...</td>\n",
       "      <td>1</td>\n",
       "    </tr>\n",
       "    <tr>\n",
       "      <td>1</td>\n",
       "      <td>hj tem live, so q cai ser uma curta. @mrsimpso...</td>\n",
       "      <td>0</td>\n",
       "    </tr>\n",
       "    <tr>\n",
       "      <td>2</td>\n",
       "      <td>@jaoreg racho com os vídeos dele de fall guys</td>\n",
       "      <td>1</td>\n",
       "    </tr>\n",
       "    <tr>\n",
       "      <td>3</td>\n",
       "      <td>eu jogando fall guys é mt sarro, eu dou uns gr...</td>\n",
       "      <td>0</td>\n",
       "    </tr>\n",
       "    <tr>\n",
       "      <td>4</td>\n",
       "      <td>adicionaram easy anti cheat no fall guys vitór...</td>\n",
       "      <td>1</td>\n",
       "    </tr>\n",
       "  </tbody>\n",
       "</table>\n",
       "</div>"
      ],
      "text/plain": [
       "                                         Treinamento  Relevância\n",
       "0  atualizaram o fall guys e ficou uma merda, par...           1\n",
       "1  hj tem live, so q cai ser uma curta. @mrsimpso...           0\n",
       "2      @jaoreg racho com os vídeos dele de fall guys           1\n",
       "3  eu jogando fall guys é mt sarro, eu dou uns gr...           0\n",
       "4  adicionaram easy anti cheat no fall guys vitór...           1"
      ]
     },
     "execution_count": 16,
     "metadata": {},
     "output_type": "execute_result"
    }
   ],
   "source": [
    "train = pd.read_excel(filename)\n",
    "train = train.loc[:,['Treinamento', 'Relevância']]\n",
    "train.head(5)"
   ]
  },
  {
   "cell_type": "code",
   "execution_count": 17,
   "metadata": {},
   "outputs": [
    {
     "data": {
      "text/html": [
       "<div>\n",
       "<style scoped>\n",
       "    .dataframe tbody tr th:only-of-type {\n",
       "        vertical-align: middle;\n",
       "    }\n",
       "\n",
       "    .dataframe tbody tr th {\n",
       "        vertical-align: top;\n",
       "    }\n",
       "\n",
       "    .dataframe thead th {\n",
       "        text-align: right;\n",
       "    }\n",
       "</style>\n",
       "<table border=\"1\" class=\"dataframe\">\n",
       "  <thead>\n",
       "    <tr style=\"text-align: right;\">\n",
       "      <th></th>\n",
       "      <th>Teste</th>\n",
       "      <th>Relevância</th>\n",
       "    </tr>\n",
       "  </thead>\n",
       "  <tbody>\n",
       "    <tr>\n",
       "      <td>0</td>\n",
       "      <td>confira minha transmissão do meu playstation 4...</td>\n",
       "      <td>1</td>\n",
       "    </tr>\n",
       "    <tr>\n",
       "      <td>1</td>\n",
       "      <td>fall guys ta todo lagado so queria jogar</td>\n",
       "      <td>1</td>\n",
       "    </tr>\n",
       "    <tr>\n",
       "      <td>2</td>\n",
       "      <td>o jeito q eu sou péssima no fall guys é difere...</td>\n",
       "      <td>0</td>\n",
       "    </tr>\n",
       "    <tr>\n",
       "      <td>3</td>\n",
       "      <td>@marvinsantosl1 enquanto fall guys não faz cro...</td>\n",
       "      <td>0</td>\n",
       "    </tr>\n",
       "    <tr>\n",
       "      <td>4</td>\n",
       "      <td>rt @2albafica1241: vou fazer a live de fall gu...</td>\n",
       "      <td>1</td>\n",
       "    </tr>\n",
       "  </tbody>\n",
       "</table>\n",
       "</div>"
      ],
      "text/plain": [
       "                                               Teste  Relevância\n",
       "0  confira minha transmissão do meu playstation 4...           1\n",
       "1           fall guys ta todo lagado so queria jogar           1\n",
       "2  o jeito q eu sou péssima no fall guys é difere...           0\n",
       "3  @marvinsantosl1 enquanto fall guys não faz cro...           0\n",
       "4  rt @2albafica1241: vou fazer a live de fall gu...           1"
      ]
     },
     "execution_count": 17,
     "metadata": {},
     "output_type": "execute_result"
    }
   ],
   "source": [
    "test = pd.read_excel(filename, sheet_name = 'Teste')\n",
    "test.head(5)"
   ]
  },
  {
   "cell_type": "markdown",
   "metadata": {},
   "source": [
    "___\n",
    "## Classificador automático de sentimento\n"
   ]
  },
  {
   "cell_type": "markdown",
   "metadata": {},
   "source": [
    "Faça aqui uma descrição do seu produto e o que considerou como relevante ou não relevante na classificação dos tweets.\n",
    "\n",
    "O nosso produto é o jogo de videogame Fall Guys. O nosso critério para tweets relevantes corresponde ao tipo de conteúdo que eles tinham, na qual a gente focou em comentários críticos sobre o jogo (com relação a atualizações e bugs), lives e streamings (que geralmente atraem pessoas que se interessam e geram críticas importantes), e qualquer tipo de comentário com relação ao servidor e conteúdos do sistema."
   ]
  },
  {
   "cell_type": "markdown",
   "metadata": {},
   "source": [
    "___\n",
    "### Montando um Classificador Naive-Bayes\n",
    "\n",
    "Considerando apenas as mensagens da planilha Treinamento, ensine  seu classificador."
   ]
  },
  {
   "cell_type": "code",
   "execution_count": 18,
   "metadata": {},
   "outputs": [],
   "source": [
    "import re \n",
    "\n",
    "#função de limpeza removendo as pontuações\n",
    "def cleanup(text):\n",
    "    punctuation = '[!-.:,:?;/@\")(|,[\\n]' \n",
    "    pattern = re.compile(punctuation)\n",
    "    text_subbed = re.sub(pattern, '', text)\n",
    "    return text_subbed"
   ]
  },
  {
   "cell_type": "code",
   "execution_count": 19,
   "metadata": {},
   "outputs": [],
   "source": [
    "#criando uma lista de listas em que as sublistas são os tweets e os itens são as palavras\n",
    "LISTAO = []\n",
    "\n",
    "for i in train.Treinamento: \n",
    "    tweet_geral = cleanup(i)\n",
    "    palavras_geral = tweet_geral.split()\n",
    "    LISTAO.append(palavras_geral)"
   ]
  },
  {
   "cell_type": "code",
   "execution_count": 20,
   "metadata": {},
   "outputs": [],
   "source": [
    "#criando uma lista com todas as palavras de todos os tweets\n",
    "lista_tweets_geral = []\n",
    "\n",
    "for i in train.Treinamento: \n",
    "    tweet_geral = cleanup(i)\n",
    "    palavras_geral = tweet_geral.split()\n",
    "    lista_tweets_geral.extend(palavras_geral)"
   ]
  },
  {
   "cell_type": "code",
   "execution_count": 21,
   "metadata": {},
   "outputs": [
    {
     "name": "stdout",
     "output_type": "stream",
     "text": [
      "Quantidade total de palavras nos tweets de treinamento sem repetição: 1714\n"
     ]
    }
   ],
   "source": [
    "#criando uma lista com todas as palavras de todos tweets sem repetição\n",
    "lista_tweets_SR = []\n",
    "for palavra in lista_tweets_geral:\n",
    "    if palavra not in lista_tweets_SR:\n",
    "        lista_tweets_SR.append(palavra)\n",
    "        \n",
    "#número de palavras em todos os tweets\n",
    "quant_total = len(lista_tweets_SR)\n",
    "print(f'Quantidade total de palavras nos tweets de treinamento sem repetição: {quant_total}')"
   ]
  },
  {
   "cell_type": "markdown",
   "metadata": {},
   "source": [
    "### TWEETS RELEVANTES"
   ]
  },
  {
   "cell_type": "code",
   "execution_count": 22,
   "metadata": {},
   "outputs": [],
   "source": [
    "#criando o pd.Series de tweets relevantes\n",
    "relevante = train.Relevância == 1\n",
    "tweets_relevantes = train.loc[relevante, 'Treinamento']\n",
    "\n",
    "\n",
    "#aplicando a função de limpeza e criando uma lista com as palavras dos tweets relevantes\n",
    "lista_relev = []\n",
    "\n",
    "for i in tweets_relevantes:\n",
    "    tweet_relev = cleanup(i)\n",
    "    palavras_relev = tweet_relev.split()\n",
    "    lista_relev.extend(palavras_relev) #lista de palavras nos tweets relevantes\n",
    "    "
   ]
  },
  {
   "cell_type": "code",
   "execution_count": 23,
   "metadata": {},
   "outputs": [
    {
     "name": "stdout",
     "output_type": "stream",
     "text": [
      "Quantidade total de palavras nos tweets relevantes de treinamento sem repetição: 911\n"
     ]
    }
   ],
   "source": [
    "#criando uma lista com todas as palavras dos tweets relevantes sem repetição\n",
    "lista_relevSR = []\n",
    "for palavra in lista_relev:\n",
    "    if palavra not in lista_relevSR:\n",
    "        lista_relevSR.append(palavra)\n",
    "        \n",
    "\n",
    "#número de palavras nos tweets relevantes\n",
    "quant_R = len(lista_relevSR)\n",
    "print(f'Quantidade total de palavras nos tweets relevantes de treinamento sem repetição: {quant_R}')"
   ]
  },
  {
   "cell_type": "markdown",
   "metadata": {},
   "source": [
    "### TWEETS NÃO RELEVANTES"
   ]
  },
  {
   "cell_type": "code",
   "execution_count": 24,
   "metadata": {},
   "outputs": [],
   "source": [
    "#criando o pd.Series de tweets não relevantes\n",
    "naorelevante = train.Relevância == 0\n",
    "tweets_naorelevantes = train.loc[naorelevante, 'Treinamento']\n",
    "\n",
    "#aplicando a função de limpeza e criando uma lista com as palavras dos tweets não relevantes\n",
    "lista_naorelev = []\n",
    "\n",
    "for i in tweets_naorelevantes:\n",
    "    tweet_naorelev = cleanup(i)\n",
    "    palavras_naorelev = tweet_naorelev.split()\n",
    "    lista_naorelev.extend(palavras_naorelev) #lista de palavras nos tweets não relevantes\n",
    "    "
   ]
  },
  {
   "cell_type": "code",
   "execution_count": 25,
   "metadata": {},
   "outputs": [
    {
     "name": "stdout",
     "output_type": "stream",
     "text": [
      "Quantidade total de palavras nos tweets não relevantes de treinamento sem repetição: 1096\n"
     ]
    }
   ],
   "source": [
    "#criando uma lista com todas as palavras dos tweets relevantes sem repetição\n",
    "lista_naorelevSR = []\n",
    "for palavra in lista_naorelev:\n",
    "    if palavra not in lista_naorelevSR:\n",
    "        lista_naorelevSR.append(palavra)\n",
    "        \n",
    "\n",
    "#número de palavras nos tweets não relevantes\n",
    "quant_NR = len(lista_naorelevSR)\n",
    "print(f'Quantidade total de palavras nos tweets não relevantes de treinamento sem repetição: {quant_NR}')"
   ]
  },
  {
   "cell_type": "code",
   "execution_count": null,
   "metadata": {},
   "outputs": [],
   "source": []
  },
  {
   "cell_type": "markdown",
   "metadata": {},
   "source": [
    "### CLASSIFICADOR"
   ]
  },
  {
   "cell_type": "code",
   "execution_count": 26,
   "metadata": {},
   "outputs": [],
   "source": [
    "#Essa célula é um teste do nosso classificador, de modo que foi utilizada a própria planilha de treinamento\n",
    "#com o objetivo de verificar se os resultados seriam razoáveis\n",
    "\n",
    "#probabilidades\n",
    "prob_r = 0.41111         # P(relevante)\n",
    "prob_nr = 1 - 0.41111    # P(não relevante)\n",
    "\n",
    "TR = []                  # lista com os tweets classificados como relevantes\n",
    "TNR = []                 # lista com os tweets classificados como não relevantes\n",
    "classificacao = []       # lista de classificação como R (relevante) ou NR (não relevante)\n",
    "\n",
    "\n",
    "# classificador\n",
    "for tweet in LISTAO: \n",
    "    x=1\n",
    "    y=1\n",
    "    \n",
    "    for palavra in tweet:\n",
    "        a = lista_relev.count(palavra)\n",
    "        prob_a_dado_r =  (a + 1)/(quant_R + quant_total)\n",
    "        x = x*prob_a_dado_r\n",
    "       \n",
    "        b = lista_naorelev.count(palavra)\n",
    "        prob_b_dado_nr = (b + 1)/(quant_NR + quant_total)\n",
    "        y = y*prob_b_dado_nr\n",
    "    \n",
    "    prob_r_dado_tweet = prob_r*x\n",
    "    prob_nr_dado_tweet = prob_nr*y\n",
    "\n",
    "    if prob_r_dado_tweet > prob_nr_dado_tweet:\n",
    "        TR.append(tweet)\n",
    "        classificacao.append('R')\n",
    "    else:\n",
    "        TNR.append(tweet)\n",
    "        classificacao.append('NR')\n",
    "         "
   ]
  },
  {
   "cell_type": "code",
   "execution_count": 27,
   "metadata": {},
   "outputs": [
    {
     "name": "stdout",
     "output_type": "stream",
     "text": [
      "Número de tweets classificados como relevantes: 138\n",
      "Número de tweets classificados como não relevantes: 222\n"
     ]
    }
   ],
   "source": [
    "print(f'Número de tweets classificados como relevantes: {len(TR)}')\n",
    "print(f'Número de tweets classificados como não relevantes: {len(TNR)}')"
   ]
  },
  {
   "cell_type": "code",
   "execution_count": 28,
   "metadata": {},
   "outputs": [
    {
     "data": {
      "text/html": [
       "<div>\n",
       "<style scoped>\n",
       "    .dataframe tbody tr th:only-of-type {\n",
       "        vertical-align: middle;\n",
       "    }\n",
       "\n",
       "    .dataframe tbody tr th {\n",
       "        vertical-align: top;\n",
       "    }\n",
       "\n",
       "    .dataframe thead th {\n",
       "        text-align: right;\n",
       "    }\n",
       "</style>\n",
       "<table border=\"1\" class=\"dataframe\">\n",
       "  <thead>\n",
       "    <tr style=\"text-align: right;\">\n",
       "      <th>col_0</th>\n",
       "      <th>NR</th>\n",
       "      <th>R</th>\n",
       "    </tr>\n",
       "    <tr>\n",
       "      <th>Relevância</th>\n",
       "      <th></th>\n",
       "      <th></th>\n",
       "    </tr>\n",
       "  </thead>\n",
       "  <tbody>\n",
       "    <tr>\n",
       "      <td>0</td>\n",
       "      <td>211</td>\n",
       "      <td>1</td>\n",
       "    </tr>\n",
       "    <tr>\n",
       "      <td>1</td>\n",
       "      <td>11</td>\n",
       "      <td>137</td>\n",
       "    </tr>\n",
       "  </tbody>\n",
       "</table>\n",
       "</div>"
      ],
      "text/plain": [
       "col_0        NR    R\n",
       "Relevância          \n",
       "0           211    1\n",
       "1            11  137"
      ]
     },
     "execution_count": 28,
     "metadata": {},
     "output_type": "execute_result"
    }
   ],
   "source": [
    "#tabela de classificação do nosso modelo de validação do classificador\n",
    "pd.crosstab(train.Relevância, pd.Series(classificacao))"
   ]
  },
  {
   "cell_type": "markdown",
   "metadata": {},
   "source": [
    "___\n",
    "### Verificando a performance do Classificador\n",
    "\n",
    "Agora você deve testar o seu classificador com a base de Testes."
   ]
  },
  {
   "cell_type": "code",
   "execution_count": 29,
   "metadata": {},
   "outputs": [
    {
     "name": "stdout",
     "output_type": "stream",
     "text": [
      "Número de tweets utilizados no teste: 171\n"
     ]
    }
   ],
   "source": [
    "#aplicando a função de limpeza nos tweets da parte teste\n",
    "\n",
    "lista_teste = []      #lista de todos os tweets do parte teste\n",
    "LISTAO_TESTE = []     #lista de listas em que as sublistas são os tweets e os itens são as palavras da parte teste\n",
    "\n",
    "for i in test.Teste: \n",
    "    tweet_teste = cleanup(i)\n",
    "    lista_teste.append(tweet_teste)\n",
    "    palavras_teste = tweet_teste.split()\n",
    "    LISTAO_TESTE.append(palavras_teste)\n",
    "    \n",
    "print(f'Número de tweets utilizados no teste: {len(lista_teste)}')"
   ]
  },
  {
   "cell_type": "code",
   "execution_count": 30,
   "metadata": {},
   "outputs": [],
   "source": [
    "#classificador\n",
    "c_teste = []     # lista de classificação como R (relevante) ou NR (não relevante)\n",
    "\n",
    "for tweet in LISTAO_TESTE: \n",
    "    x=1\n",
    "    y=1\n",
    "    \n",
    "    for palavra in tweet:\n",
    "        a = lista_relev.count(palavra)\n",
    "        prob_a_dado_r =  (a + 1)/(quant_R + quant_total)\n",
    "        x = x*prob_a_dado_r\n",
    "       \n",
    "        b = lista_naorelev.count(palavra)\n",
    "        prob_b_dado_nr = (b + 1)/(quant_NR + quant_total)\n",
    "        y = y*prob_b_dado_nr\n",
    "    \n",
    "    prob_r_dado_tweet = prob_r*x\n",
    "    prob_nr_dado_tweet = prob_nr*y\n",
    "\n",
    "    if prob_r_dado_tweet > prob_nr_dado_tweet:\n",
    "        c_teste.append('R')\n",
    "    else:\n",
    "        c_teste.append('NR')"
   ]
  },
  {
   "cell_type": "code",
   "execution_count": 31,
   "metadata": {},
   "outputs": [
    {
     "data": {
      "text/html": [
       "<div>\n",
       "<style scoped>\n",
       "    .dataframe tbody tr th:only-of-type {\n",
       "        vertical-align: middle;\n",
       "    }\n",
       "\n",
       "    .dataframe tbody tr th {\n",
       "        vertical-align: top;\n",
       "    }\n",
       "\n",
       "    .dataframe thead th {\n",
       "        text-align: right;\n",
       "    }\n",
       "</style>\n",
       "<table border=\"1\" class=\"dataframe\">\n",
       "  <thead>\n",
       "    <tr style=\"text-align: right;\">\n",
       "      <th>col_0</th>\n",
       "      <th>NR</th>\n",
       "      <th>R</th>\n",
       "    </tr>\n",
       "    <tr>\n",
       "      <th>Relevância</th>\n",
       "      <th></th>\n",
       "      <th></th>\n",
       "    </tr>\n",
       "  </thead>\n",
       "  <tbody>\n",
       "    <tr>\n",
       "      <td>0</td>\n",
       "      <td>0.578947</td>\n",
       "      <td>0.040936</td>\n",
       "    </tr>\n",
       "    <tr>\n",
       "      <td>1</td>\n",
       "      <td>0.128655</td>\n",
       "      <td>0.251462</td>\n",
       "    </tr>\n",
       "  </tbody>\n",
       "</table>\n",
       "</div>"
      ],
      "text/plain": [
       "col_0             NR         R\n",
       "Relevância                    \n",
       "0           0.578947  0.040936\n",
       "1           0.128655  0.251462"
      ]
     },
     "execution_count": 31,
     "metadata": {},
     "output_type": "execute_result"
    }
   ],
   "source": [
    "#tabela de classificação final da planilha de teste\n",
    "pd.crosstab(test.Relevância, pd.Series(c_teste), normalize = True)"
   ]
  },
  {
   "cell_type": "code",
   "execution_count": 33,
   "metadata": {},
   "outputs": [
    {
     "data": {
      "text/html": [
       "<div>\n",
       "<style scoped>\n",
       "    .dataframe tbody tr th:only-of-type {\n",
       "        vertical-align: middle;\n",
       "    }\n",
       "\n",
       "    .dataframe tbody tr th {\n",
       "        vertical-align: top;\n",
       "    }\n",
       "\n",
       "    .dataframe thead th {\n",
       "        text-align: right;\n",
       "    }\n",
       "</style>\n",
       "<table border=\"1\" class=\"dataframe\">\n",
       "  <thead>\n",
       "    <tr style=\"text-align: right;\">\n",
       "      <th>col_0</th>\n",
       "      <th>NR</th>\n",
       "      <th>R</th>\n",
       "    </tr>\n",
       "    <tr>\n",
       "      <th>Relevância</th>\n",
       "      <th></th>\n",
       "      <th></th>\n",
       "    </tr>\n",
       "  </thead>\n",
       "  <tbody>\n",
       "    <tr>\n",
       "      <td>0</td>\n",
       "      <td>0.933962</td>\n",
       "      <td>0.066038</td>\n",
       "    </tr>\n",
       "    <tr>\n",
       "      <td>1</td>\n",
       "      <td>0.338462</td>\n",
       "      <td>0.661538</td>\n",
       "    </tr>\n",
       "  </tbody>\n",
       "</table>\n",
       "</div>"
      ],
      "text/plain": [
       "col_0             NR         R\n",
       "Relevância                    \n",
       "0           0.933962  0.066038\n",
       "1           0.338462  0.661538"
      ]
     },
     "execution_count": 33,
     "metadata": {},
     "output_type": "execute_result"
    }
   ],
   "source": [
    "pd.crosstab(test.Relevância, pd.Series(c_teste), normalize = 'index')"
   ]
  },
  {
   "cell_type": "code",
   "execution_count": 36,
   "metadata": {},
   "outputs": [
    {
     "name": "stdout",
     "output_type": "stream",
     "text": [
      "Para avaliar a eficiência do nosso classificador, montamos a tabela cruzada acima.\n",
      "Com ela, foi possível encontrar as porcentagens de acerto e de erro do classificador.\n",
      "----------------------------------------------------------------------------------------------------\n",
      "- verdadeiros positivos: 25,1%    (mensagens relevantes classificadas como relevantes)\n",
      "- falsos positivos: 4,1%          (mensagens irrelevantes que são classificadas como relevantes)\n",
      "- verdadeiros negativos: 57,8%    (mensagens irrelevantes que são classificadas como irrelevantes)\n",
      "- falsos negativos: 12,9%         (mensagens relevantes que são cassificadas como irrelevantes)\n",
      "----------------------------------------------------------------------------------------------------\n",
      "- Porcentagem de acerto dos tweets relevantes: 66,2%\n",
      "- Porcentagem de acerto dos tweets irrelevantes: 93,4%\n"
     ]
    }
   ],
   "source": [
    "print ('Para avaliar a eficiência do nosso classificador, montamos a tabela cruzada acima.')\n",
    "print ('Com ela, foi possível encontrar as porcentagens de acerto e de erro do classificador.')\n",
    "print('-'*100)\n",
    "print('- verdadeiros positivos: 25,1%    (mensagens relevantes classificadas como relevantes)')\n",
    "print('- falsos positivos: 4,1%          (mensagens irrelevantes que são classificadas como relevantes)')\n",
    "print('- verdadeiros negativos: 57,8%    (mensagens irrelevantes que são classificadas como irrelevantes)')\n",
    "print('- falsos negativos: 12,9%         (mensagens relevantes que são cassificadas como irrelevantes)')\n",
    "print('-'*100)\n",
    "print('- Porcentagem de acerto dos tweets relevantes: 66,2%')\n",
    "print('- Porcentagem de acerto dos tweets irrelevantes: 93,4%')"
   ]
  },
  {
   "cell_type": "markdown",
   "metadata": {},
   "source": [
    "___\n",
    "### Concluindo"
   ]
  },
  {
   "cell_type": "markdown",
   "metadata": {},
   "source": [
    "- PERFORMANCE:\n",
    "O nosso classificador teve uma boa performance, mostrando uma alta porcentagem de acerto nos tweets irrelevantes , e uma porcentagem razoável de acerto nos tweets relevantes da planilha de teste. Na classificação dos tweets irrelevantes, houve uma porcentagem de cerca de 90% de acerto, já na classificação dos tweets relevantes, cerca de 2/3 dos tweets foram classificados corretamente. "
   ]
  },
  {
   "cell_type": "markdown",
   "metadata": {},
   "source": [
    "- SARCASMO E DUPLA NEGAÇÃO:\n",
    "Como o nosso classificador se baseia no número de vezes que uma palavra aparece em determinado tweet, os comentário que envolvem sarcasmo e dupla negação não são possíveis de serem classificados utilizando esse método. Isso acontece, pois o classificador não consegue identificar o sentido e o significado da frase, apenas as palavras que estão presentes no comentário."
   ]
  },
  {
   "cell_type": "markdown",
   "metadata": {},
   "source": [
    "- PLANO DE EXPANSÃO E OUTRAS OPÇÕES DE UTILIZAÇÃO DO CLASSIFICADOR:\n",
    "Apesar do classificador ter obtido uma boa porcentagem de acerto, ainda há maneiras de tornar o código mais preciso e trazer resultados melhores. Esse método poderia ser aplicado em outras redes sociais, com o mesmo objetivo, a identificação de posts relevantes. E também em diferentes cenários, por exemplo: diagnósticos médicos, identificação de e-mails como spam, classificação de artigos em diferentes temas, software de reconhecimento facial, entre outros."
   ]
  },
  {
   "cell_type": "markdown",
   "metadata": {},
   "source": [
    "- POSSÍVEIS MELHORIAS:\n",
    "Uma maneira de melhorar a performance do nosso classificador, seria utilizar como base para classificação os radicais das palavras, o que evitaria a diferenciação de verbos conjugados de diferentes maneiras, ou palavras com afixos diferentes. Para isso, seria possível utilizar uma função que identifica os radicais. Poderia utilizar a técnica do stemming, utlizando a biblioteca nltk.\n",
    "        \n",
    "Esses dados foram obtidos no site: https://minerandodados.com.br/analise-de-sentimentos-utilizando-dados-do-twitter/"
   ]
  },
  {
   "cell_type": "markdown",
   "metadata": {},
   "source": [
    "- Por que não utilizar o próprio classificador para gerar mais amostras de treinamento?\n",
    "\n",
    "Não é possível utilizar o próprio classificador para gerar mais amostras de treinamento, pois poderia entrar em um tipo de looping, uma vez que essas novas amostras entrariam no classificador podendo levar a um escalonamento de erros, de modo que a qualidade do classificador e a sua validade ficariam comprometidas."
   ]
  },
  {
   "cell_type": "markdown",
   "metadata": {},
   "source": [
    "___\n",
    "## Aperfeiçoamento:\n",
    "\n",
    "Os trabalhos vão evoluir em conceito dependendo da quantidade de itens avançados:\n",
    "\n",
    "* Limpar: \\n, :, \", ', (, ), etc SEM remover emojis\n",
    "* Corrigir separação de espaços entre palavras e emojis ou entre emojis e emojis\n",
    "* Propor outras limpezas e transformações que não afetem a qualidade da informação ou classificação\n",
    "* Criar categorias intermediárias de relevância baseadas na probabilidade: ex.: muito relevante, relevante, neutro, irrelevante, muito irrelevante (3 categorias: C, mais categorias conta para B)\n",
    "* Explicar por que não posso usar o próprio classificador para gerar mais amostras de treinamento\n",
    "* Propor diferentes cenários para Naïve Bayes fora do contexto do projeto\n",
    "* Sugerir e explicar melhorias reais com indicações concretas de como implementar (indicar como fazer e indicar material de pesquisa)\n",
    "* Montar um dashboard que realiza análise de sentimento e visualiza estes dados"
   ]
  },
  {
   "cell_type": "markdown",
   "metadata": {},
   "source": [
    "___\n",
    "## Referências"
   ]
  },
  {
   "cell_type": "markdown",
   "metadata": {},
   "source": [
    "[Naive Bayes and Text Classification](https://arxiv.org/pdf/1410.5329.pdf)  **Mais completo**\n",
    "\n",
    "[A practical explanation of a Naive Bayes Classifier](https://monkeylearn.com/blog/practical-explanation-naive-bayes-classifier/) **Mais simples**"
   ]
  },
  {
   "cell_type": "code",
   "execution_count": null,
   "metadata": {},
   "outputs": [],
   "source": []
  }
 ],
 "metadata": {
  "kernelspec": {
   "display_name": "Python 3",
   "language": "python",
   "name": "python3"
  },
  "language_info": {
   "codemirror_mode": {
    "name": "ipython",
    "version": 3
   },
   "file_extension": ".py",
   "mimetype": "text/x-python",
   "name": "python",
   "nbconvert_exporter": "python",
   "pygments_lexer": "ipython3",
   "version": "3.7.4"
  }
 },
 "nbformat": 4,
 "nbformat_minor": 4
}
